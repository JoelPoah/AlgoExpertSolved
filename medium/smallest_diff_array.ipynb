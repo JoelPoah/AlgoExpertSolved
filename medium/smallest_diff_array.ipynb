{
 "cells": [
  {
   "cell_type": "markdown",
   "metadata": {},
   "source": [
    "# Find smallest difference between 2 arrays\n",
    "- Sort array\n",
    "- take difference between the 2 num"
   ]
  },
  {
   "cell_type": "code",
   "execution_count": 45,
   "metadata": {},
   "outputs": [],
   "source": [
    "import random\n",
    "#create an array filled with randomly generated numbers from 1 to 100\n",
    "arrayOne = [random.randint(1,100000) for i in range(200)]\n",
    "arrayTwo = [random.randint(1,100000) for i in range(200)]"
   ]
  },
  {
   "cell_type": "code",
   "execution_count": 46,
   "metadata": {},
   "outputs": [],
   "source": [
    "def smallestDifference(arrayOne,arrayTwo):\n",
    "    i = 0\n",
    "    j = 0\n",
    "    smallest=float('inf')\n",
    "    arrayOne.sort(reverse=False)\n",
    "    arrayTwo.sort(reverse=False)\n",
    "    while i < len(arrayOne) and j < len(arrayTwo):\n",
    "        current = abs(arrayOne[i] - arrayTwo[j])\n",
    "        if current < smallest:\n",
    "            smallest = current\n",
    "            smallest_index = [i,j]\n",
    "            smallestPair = [arrayOne[i], arrayTwo[j]]\n",
    "        if arrayOne[i] < arrayTwo[j]:\n",
    "            i += 1\n",
    "        else:\n",
    "            j += 1\n",
    "    return smallestPair\n",
    "    "
   ]
  },
  {
   "cell_type": "code",
   "execution_count": 47,
   "metadata": {},
   "outputs": [
    {
     "data": {
      "text/plain": [
       "[46805, 46805]"
      ]
     },
     "execution_count": 47,
     "metadata": {},
     "output_type": "execute_result"
    }
   ],
   "source": [
    "smallestDifference(arrayOne,arrayTwo)"
   ]
  },
  {
   "cell_type": "markdown",
   "metadata": {},
   "source": [
    "# Copilot code\n",
    "def smallestDifference(arrayOne,arrayTwo):\n",
    "    arrayOne.sort()\n",
    "    arrayTwo.sort()\n",
    "    smallest = float('inf')\n",
    "    smallestPair = []\n",
    "    i = 0\n",
    "    j = 0\n",
    "    while i < len(arrayOne) and j < len(arrayTwo):\n",
    "        current = abs(arrayOne[i] - arrayTwo[j])\n",
    "        if current < smallest:\n",
    "            smallest = current\n",
    "            smallestPair = [arrayOne[i], arrayTwo[j]]\n",
    "        if arrayOne[i] < arrayTwo[j]:\n",
    "            i += 1\n",
    "        else:\n",
    "            j += 1\n",
    "    return smallestPair"
   ]
  }
 ],
 "metadata": {
  "kernelspec": {
   "display_name": "Python 3.10.0 64-bit",
   "language": "python",
   "name": "python3"
  },
  "language_info": {
   "codemirror_mode": {
    "name": "ipython",
    "version": 3
   },
   "file_extension": ".py",
   "mimetype": "text/x-python",
   "name": "python",
   "nbconvert_exporter": "python",
   "pygments_lexer": "ipython3",
   "version": "3.10.0"
  },
  "orig_nbformat": 4,
  "vscode": {
   "interpreter": {
    "hash": "146e877987a5ca10c5ba40ec3e7a25002bcba56c71dc1c36e6a7a19a2012e1b9"
   }
  }
 },
 "nbformat": 4,
 "nbformat_minor": 2
}
