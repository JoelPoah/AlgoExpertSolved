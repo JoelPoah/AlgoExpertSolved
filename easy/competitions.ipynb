{
 "cells": [
  {
   "cell_type": "markdown",
   "metadata": {},
   "source": [
    "# Tournament winner\n",
    "## Algorithm which finds out who is the winner out of all the competitions "
   ]
  },
  {
   "cell_type": "code",
   "execution_count": 45,
   "metadata": {},
   "outputs": [],
   "source": [
    "competitions = [\n",
    "  [\"HTML\", \"C#\"],\n",
    "  [\"C#\", \"Python\"],\n",
    "  [\"Python\", \"HTML\"]\n",
    "]\n",
    "\n",
    "results = [ 0, 0, 1 ]\n"
   ]
  },
  {
   "cell_type": "code",
   "execution_count": 46,
   "metadata": {},
   "outputs": [],
   "source": [
    "def tournamentWinner(competitions, results):\n",
    "    for i,j in enumerate(results):\n",
    "        if j ==0:\n",
    "            results[i]=1\n",
    "        else:\n",
    "            results[i]=0\n",
    "    winner = []\n",
    "    for i,j in enumerate(competitions):\n",
    "        winner.append(j[results[i]])\n",
    "    best = max(winner)\n",
    "    return best\n"
   ]
  },
  {
   "cell_type": "code",
   "execution_count": 47,
   "metadata": {},
   "outputs": [
    {
     "data": {
      "text/plain": [
       "'Python'"
      ]
     },
     "execution_count": 47,
     "metadata": {},
     "output_type": "execute_result"
    }
   ],
   "source": [
    "tournamentWinner(competitions,results)"
   ]
  },
  {
   "cell_type": "code",
   "execution_count": 48,
   "metadata": {},
   "outputs": [],
   "source": [
    "long_competitions = [\n",
    "    [\"HTML\", \"Java\"],\n",
    "    [\"Java\", \"Python\"],\n",
    "    [\"Python\", \"HTML\"],\n",
    "    [\"C#\", \"Python\"],\n",
    "    [\"Java\", \"C#\"],\n",
    "    [\"C#\", \"HTML\"],\n",
    "    [\"SQL\", \"C#\"],\n",
    "    [\"HTML\", \"SQL\"],\n",
    "    [\"SQL\", \"Python\"],\n",
    "    [\"SQL\", \"Java\"],\n",
    "    [\"HTML\", \"Java\"],\n",
    "    [\"Java\", \"Python\"],\n",
    "    [\"Python\", \"HTML\"],\n",
    "    [\"C#\", \"Python\"],\n",
    "    [\"Java\", \"C#\"],\n",
    "    [\"C#\", \"HTML\"],\n",
    "    [\"SQL\", \"C#\"],\n",
    "    [\"HTML\", \"SQL\"],\n",
    "    [\"SQL\", \"Python\"],\n",
    "    [\"SQL\", \"Java\"]\n",
    "]\n",
    "\n",
    "long_results = [0, 1, 1, 1, 0, 1, 0, 1, 1, 0,0, 1, 1, 1, 0, 1, 0, 1, 1, 0]\n"
   ]
  },
  {
   "cell_type": "code",
   "execution_count": 49,
   "metadata": {},
   "outputs": [
    {
     "data": {
      "text/plain": [
       "'SQL'"
      ]
     },
     "execution_count": 49,
     "metadata": {},
     "output_type": "execute_result"
    }
   ],
   "source": [
    "tournamentWinner(long_competitions,long_results)"
   ]
  },
  {
   "cell_type": "markdown",
   "metadata": {},
   "source": [
    "# I suppose the time complexity is still O(n) here since all my algorithm is doing is just iterating thorugh the competitions array \n",
    "# However, the space complexity is O(KN) where there are faster algorithms with hash map the ncan reduce space complexity to just O(k) \n",
    "*n is the length of competitions array while k is the length of results since it needs to copy 2 array in order for it to work*"
   ]
  }
 ],
 "metadata": {
  "kernelspec": {
   "display_name": "Python 3.10.6 64-bit (windows store)",
   "language": "python",
   "name": "python3"
  },
  "language_info": {
   "codemirror_mode": {
    "name": "ipython",
    "version": 3
   },
   "file_extension": ".py",
   "mimetype": "text/x-python",
   "name": "python",
   "nbconvert_exporter": "python",
   "pygments_lexer": "ipython3",
   "version": "3.10.6"
  },
  "orig_nbformat": 4,
  "vscode": {
   "interpreter": {
    "hash": "58dbfdb34cf82127b32c5737e6183911655ff227e5c11e8f5e4b25048ae98ef2"
   }
  }
 },
 "nbformat": 4,
 "nbformat_minor": 2
}
